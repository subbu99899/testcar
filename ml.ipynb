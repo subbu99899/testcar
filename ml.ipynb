{
 "cells": [
  {
   "cell_type": "code",
   "execution_count": 7,
   "metadata": {},
   "outputs": [
    {
     "name": "stdout",
     "output_type": "stream",
     "text": [
      "Model trained and saved successfully.\n"
     ]
    }
   ],
   "source": [
    "import pandas as pd\n",
    "import numpy as np\n",
    "from sklearn.model_selection import train_test_split\n",
    "from sklearn.linear_model import LinearRegression\n",
    "import joblib\n",
    "\n",
    "# Load dataset\n",
    "df = pd.read_csv(\"c:/Users/DELL/Downloads/car_prices_dataset_full_lakhs.csv\")\n",
    "\n",
    "# Convert categorical variables to numerical\n",
    "fuel_mapping = {'Petrol': 0, 'Diesel': 1}\n",
    "transmission_mapping = {'Manual': 0, 'Automatic': 1}\n",
    "df['fuel_type'] = df['fuel_type'].map(fuel_mapping)\n",
    "df['Transmission'] = df['Transmission'].map(transmission_mapping)\n",
    "\n",
    "# Select features and target\n",
    "X = df[['brand', 'Year', 'Present_Price', 'Kms_Driven', 'fuel_type', 'Transmission']]\n",
    "y = df['selling_price']\n",
    "\n",
    "# Convert categorical 'brand' column to numerical using one-hot encoding\n",
    "X = pd.get_dummies(X, columns=['brand'], drop_first=True)\n",
    "\n",
    "# Save the columns of the model for later use\n",
    "joblib.dump(X.columns, 'model_columns.pkl')\n",
    "\n",
    "# Split data\n",
    "X_train, X_test, y_train, y_test = train_test_split(X, y, test_size=0.2, random_state=42)\n",
    "\n",
    "# Train model\n",
    "model = LinearRegression()\n",
    "model.fit(X_train, y_train)\n",
    "\n",
    "# Save model\n",
    "joblib.dump(model, 'car_price_model.pkl')\n",
    "print(\"Model trained and saved successfully.\")"
   ]
  }
 ],
 "metadata": {
  "kernelspec": {
   "display_name": "base",
   "language": "python",
   "name": "python3"
  },
  "language_info": {
   "codemirror_mode": {
    "name": "ipython",
    "version": 3
   },
   "file_extension": ".py",
   "mimetype": "text/x-python",
   "name": "python",
   "nbconvert_exporter": "python",
   "pygments_lexer": "ipython3",
   "version": "3.11.7"
  }
 },
 "nbformat": 4,
 "nbformat_minor": 2
}
